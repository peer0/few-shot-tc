{
 "cells": [
  {
   "cell_type": "code",
   "execution_count": 10,
   "metadata": {},
   "outputs": [
    {
     "name": "stdout",
     "output_type": "stream",
     "text": [
      "상위 5개 행:\n",
      "   no_of_ifs  no_of_switches  no_of_loop  no_of_break  priority_queue_present  \\\n",
      "0          1               0           2            0                       0   \n",
      "1          4               0           2            1                       0   \n",
      "2          4               0           2            1                       0   \n",
      "3          2               0           3            0                       0   \n",
      "4         12               0           4            0                       0   \n",
      "\n",
      "   no_of_sort  hash_set_present  hash_map_present  recursion_present  \\\n",
      "0           0                 0                 0                  0   \n",
      "1           0                 0                 0                  0   \n",
      "2           0                 0                 0                  0   \n",
      "3           0                 1                 0                  0   \n",
      "4           0                 0                 1                  0   \n",
      "\n",
      "   nested_loop_depth  noOfVariables  noOfMethods  noOfJumps  noOfStatements  \\\n",
      "0                  1              6            1          0               9   \n",
      "1                  1             10            2          3              10   \n",
      "2                  1             10            2          3              10   \n",
      "3                  1             16            3          2              12   \n",
      "4                  1             25            1          0              41   \n",
      "\n",
      "  file_name                                            content  label  \n",
      "0  854.java  import java.util.Scanner;\\npublic class Codefo...      3  \n",
      "1  547.java  \\n// Java program to find a pair with a given ...      3  \n",
      "2    4.java  \\n// Java program to find a pair with a given ...      3  \n",
      "3  942.java  \\nimport java.util.*;\\nimport java.io.*;\\nimpo...      3  \n",
      "4  944.java  import java.util.*;\\nimport java.io.*;\\npublic...      3  \n"
     ]
    }
   ],
   "source": [
    "import pandas as pd\n",
    "import matplotlib.pyplot as plt\n",
    "\n",
    "# CSV 파일 경로\n",
    "csv_file_path = 'train.csv'\n",
    "\n",
    "# CSV 파일 읽기\n",
    "df = pd.read_csv(csv_file_path)\n",
    "\n",
    "# 데이터프레임의 처음 몇 행 확인\n",
    "print(\"상위 5개 행:\")\n",
    "print(df.head())"
   ]
  },
  {
   "cell_type": "code",
   "execution_count": 11,
   "metadata": {},
   "outputs": [
    {
     "name": "stdout",
     "output_type": "stream",
     "text": [
      "\n",
      "데이터프레임 정보:\n",
      "<class 'pandas.core.frame.DataFrame'>\n",
      "RangeIndex: 746 entries, 0 to 745\n",
      "Data columns (total 17 columns):\n",
      " #   Column                  Non-Null Count  Dtype \n",
      "---  ------                  --------------  ----- \n",
      " 0   no_of_ifs               746 non-null    int64 \n",
      " 1   no_of_switches          746 non-null    int64 \n",
      " 2   no_of_loop              746 non-null    int64 \n",
      " 3   no_of_break             746 non-null    int64 \n",
      " 4   priority_queue_present  746 non-null    int64 \n",
      " 5   no_of_sort              746 non-null    int64 \n",
      " 6   hash_set_present        746 non-null    int64 \n",
      " 7   hash_map_present        746 non-null    int64 \n",
      " 8   recursion_present       746 non-null    int64 \n",
      " 9   nested_loop_depth       746 non-null    int64 \n",
      " 10  noOfVariables           746 non-null    int64 \n",
      " 11  noOfMethods             746 non-null    int64 \n",
      " 12  noOfJumps               746 non-null    int64 \n",
      " 13  noOfStatements          746 non-null    int64 \n",
      " 14  file_name               746 non-null    object\n",
      " 15  content                 745 non-null    object\n",
      " 16  label                   746 non-null    int64 \n",
      "dtypes: int64(15), object(2)\n",
      "memory usage: 99.2+ KB\n",
      "None\n"
     ]
    }
   ],
   "source": [
    "# 데이터프레임의 기본 정보 출력\n",
    "print(\"\\n데이터프레임 정보:\")\n",
    "print(df.info())"
   ]
  },
  {
   "cell_type": "code",
   "execution_count": 12,
   "metadata": {},
   "outputs": [
    {
     "name": "stdout",
     "output_type": "stream",
     "text": [
      "\n",
      "기술 통계량:\n",
      "        no_of_ifs  no_of_switches  no_of_loop  no_of_break  \\\n",
      "count  746.000000      746.000000  746.000000   746.000000   \n",
      "mean     3.239946        0.004021    2.589812     0.150134   \n",
      "std      3.376995        0.063330    2.440289     0.493154   \n",
      "min      0.000000        0.000000    0.000000     0.000000   \n",
      "25%      1.000000        0.000000    1.000000     0.000000   \n",
      "50%      2.000000        0.000000    2.000000     0.000000   \n",
      "75%      4.000000        0.000000    4.000000     0.000000   \n",
      "max     38.000000        1.000000   21.000000     4.000000   \n",
      "\n",
      "       priority_queue_present  no_of_sort  hash_set_present  hash_map_present  \\\n",
      "count              746.000000  746.000000        746.000000        746.000000   \n",
      "mean                 0.009383    0.121984          0.021448          0.013405   \n",
      "std                  0.096477    0.369835          0.144969          0.115078   \n",
      "min                  0.000000    0.000000          0.000000          0.000000   \n",
      "25%                  0.000000    0.000000          0.000000          0.000000   \n",
      "50%                  0.000000    0.000000          0.000000          0.000000   \n",
      "75%                  0.000000    0.000000          0.000000          0.000000   \n",
      "max                  1.000000    3.000000          1.000000          1.000000   \n",
      "\n",
      "       recursion_present  nested_loop_depth  noOfVariables  noOfMethods  \\\n",
      "count         746.000000         746.000000     746.000000   746.000000   \n",
      "mean            0.154155           1.158177      14.454424     2.864611   \n",
      "std             0.361340           0.698354      10.589786     2.689609   \n",
      "min             0.000000           0.000000       1.000000     1.000000   \n",
      "25%             0.000000           1.000000       9.000000     1.000000   \n",
      "50%             0.000000           1.000000      12.000000     2.000000   \n",
      "75%             0.000000           2.000000      17.000000     3.000000   \n",
      "max             1.000000           5.000000     133.000000    39.000000   \n",
      "\n",
      "        noOfJumps  noOfStatements       label  \n",
      "count  746.000000      746.000000  746.000000  \n",
      "mean     2.313673       16.644772    3.171582  \n",
      "std      3.063665       12.260531    1.225039  \n",
      "min      0.000000        0.000000    1.000000  \n",
      "25%      0.000000        9.000000    3.000000  \n",
      "50%      1.000000       13.000000    3.000000  \n",
      "75%      3.000000       21.000000    4.000000  \n",
      "max     42.000000      127.000000    5.000000  \n"
     ]
    }
   ],
   "source": [
    "# 데이터프레임의 기술 통계량 출력\n",
    "print(\"\\n기술 통계량:\")\n",
    "print(df.describe())"
   ]
  },
  {
   "cell_type": "code",
   "execution_count": 13,
   "metadata": {},
   "outputs": [],
   "source": [
    "#import pandas as pd\n",
    "import os\n",
    "\n",
    "# metadata.csv 파일 읽기\n",
    "metadata = pd.read_csv('metadata.csv')\n",
    "\n",
    "# 파일 경로 설정\n",
    "directory = '/home/inistory/workspace/JointMatch/origin/data/CorCoD/Dataset'\n",
    "\n",
    "# src 컬럼 초기화\n",
    "metadata['src'] = ''\n",
    "\n",
    "# 디렉토리 내의 모든 파일에 대해\n",
    "for filename in os.listdir(directory):\n",
    "    # 파일 이름이 metadata의 file_name 컬럼에 존재하는 경우\n",
    "    if filename in metadata['file_name'].values:\n",
    "        # 파일 내용 읽기\n",
    "        with open(os.path.join(directory, filename), 'r') as file:\n",
    "            content = file.read()\n",
    "        # src 컬럼에 파일 내용 저장\n",
    "        metadata.loc[metadata['file_name'] == filename, 'src'] = content\n",
    "\n",
    "# 결과 저장\n",
    "metadata.to_csv('metadata2.csv', index=False)"
   ]
  },
  {
   "cell_type": "code",
   "execution_count": 14,
   "metadata": {},
   "outputs": [
    {
     "name": "stdout",
     "output_type": "stream",
     "text": [
      "\n",
      "결측치 확인:\n",
      "no_of_ifs                 0\n",
      "no_of_switches            0\n",
      "no_of_loop                0\n",
      "no_of_break               0\n",
      "priority_queue_present    0\n",
      "no_of_sort                0\n",
      "hash_set_present          0\n",
      "hash_map_present          0\n",
      "recursion_present         0\n",
      "nested_loop_depth         0\n",
      "noOfVariables             0\n",
      "noOfMethods               0\n",
      "noOfJumps                 0\n",
      "noOfStatements            0\n",
      "file_name                 0\n",
      "content                   1\n",
      "label                     0\n",
      "dtype: int64\n"
     ]
    }
   ],
   "source": [
    "# 각 열의 결측치 확인\n",
    "print(\"\\n결측치 확인:\")\n",
    "print(df.isnull().sum())"
   ]
  },
  {
   "cell_type": "code",
   "execution_count": 16,
   "metadata": {},
   "outputs": [
    {
     "data": {
      "text/plain": [
       "array([3, 1, 5, 4, 2])"
      ]
     },
     "execution_count": 16,
     "metadata": {},
     "output_type": "execute_result"
    }
   ],
   "source": [
    "df['label'].unique()"
   ]
  },
  {
   "cell_type": "code",
   "execution_count": 18,
   "metadata": {},
   "outputs": [
    {
     "name": "stdout",
     "output_type": "stream",
     "text": [
      "\n",
      "유니크한 값의 개수:\n",
      "content                       3906\n",
      "problem                        257\n",
      "from                             1\n",
      "idx                           3911\n",
      "problem_title                  252\n",
      "problem_description            252\n",
      "input_output_specification     250\n",
      "tags                           144\n",
      "label                            7\n",
      "synonym_aug                   3911\n",
      "back_translation              3699\n",
      "dtype: int64\n"
     ]
    }
   ],
   "source": [
    "# 각 열의 유니크한 값의 개수 출력\n",
    "print(\"\\n유니크한 값의 개수:\")\n",
    "print(df.nunique())"
   ]
  },
  {
   "cell_type": "code",
   "execution_count": 8,
   "metadata": {},
   "outputs": [
    {
     "data": {
      "image/png": "[encoded data removed]",
      "text/plain": [
       "<Figure size 1000x800 with 1 Axes>"
      ]
     },
     "metadata": {},
     "output_type": "display_data"
    }
   ],
   "source": [
    "# 히스토그램 그리기 (숫자형 열에 대해서만)\n",
    "df.hist(figsize=(10, 8))\n",
    "plt.suptitle(\"히스토그램\")\n",
    "plt.show()"
   ]
  },
  {
   "cell_type": "code",
   "execution_count": 9,
   "metadata": {},
   "outputs": [
    {
     "data": {
      "text/plain": [
       "<Figure size 1000x800 with 0 Axes>"
      ]
     },
     "metadata": {},
     "output_type": "display_data"
    },
    {
     "data": {
      "image/png": "[encoded data removed]",
      "text/plain": [
       "<Figure size 480x480 with 2 Axes>"
      ]
     },
     "metadata": {},
     "output_type": "display_data"
    }
   ],
   "source": [
    "# 상관 행렬 그리기\n",
    "correlation_matrix = df.corr()\n",
    "plt.figure(figsize=(10, 8))\n",
    "plt.matshow(correlation_matrix, cmap='coolwarm')\n",
    "plt.title(\"상관 행렬\")\n",
    "plt.colorbar()\n",
    "plt.show()"
   ]
  },
  {
   "cell_type": "code",
   "execution_count": null,
   "metadata": {},
   "outputs": [],
   "source": []
  }
 ],
 "metadata": {
  "kernelspec": {
   "display_name": "jointmatch",
   "language": "python",
   "name": "python3"
  },
  "language_info": {
   "codemirror_mode": {
    "name": "ipython",
    "version": 3
   },
   "file_extension": ".py",
   "mimetype": "text/x-python",
   "name": "python",
   "nbconvert_exporter": "python",
   "pygments_lexer": "ipython3",
   "version": "3.8.18"
  }
 },
 "nbformat": 4,
 "nbformat_minor": 2
}
