{
 "cells": [
  {
   "cell_type": "code",
   "execution_count": 3,
   "metadata": {},
   "outputs": [
    {
     "name": "stdout",
     "output_type": "stream",
     "text": [
      "Index(['name', 'difficulty', 'source', 'language', 'solutions'], dtype='object')\n"
     ]
    }
   ],
   "source": [
    "import pandas as pd\n",
    "\n",
    "# 데이터 파일 경로를 지정하세요\n",
    "# data_path = '/home/jungin/workspace/JointMatch/multiple/data/code_contests/train.csv'  # replace with your actual file path\n",
    "data_path = '/home/jungin/workspace/JointMatch/multiple/data/code_contests/train-00000-of-00039-e991a271dbfa9925.csv'\n",
    "\n",
    "# data_path ='/home/jungin/workspace/JointMatch/multiple/data/code_contests/train-00001-of-00039-e092fe56fda18715.csv'\n",
    "# 데이터를 불러옵니다\n",
    "df = pd.read_csv(data_path)\n",
    "\n",
    "# 'content' 열을 확인합니다\n",
    "# print(df['content'])\n",
    "print(df.columns)"
   ]
  },
  {
   "cell_type": "code",
   "execution_count": 5,
   "metadata": {},
   "outputs": [
    {
     "name": "stdout",
     "output_type": "stream",
     "text": [
      "Index(['name', 'difficulty', 'source', 'language', 'solutions'], dtype='object')\n"
     ]
    }
   ],
   "source": [
    "import pandas as pd\n",
    "\n",
    "# 데이터 파일 경로를 지정하세요\n",
    "# data_path = '/home/jungin/workspace/JointMatch/multiple/data/code_contests/train.csv'  # replace with your actual file path\n",
    "# data_path = '/home/jungin/workspace/JointMatch/multiple/data/code_contests/train-00000-of-00039-e991a271dbfa9925.csv'\n",
    "\n",
    "data_path ='/home/jungin/workspace/JointMatch/multiple/data/code_contests/train-00001-of-00039-e092fe56fda18715.csv'\n",
    "# 데이터를 불러옵니다\n",
    "df = pd.read_csv(data_path)\n",
    "\n",
    "# 'content' 열을 확인합니다\n",
    "# print(df['content'])\n",
    "print(df.columns)"
   ]
  },
  {
   "cell_type": "code",
   "execution_count": 3,
   "metadata": {},
   "outputs": [
    {
     "name": "stdout",
     "output_type": "stream",
     "text": [
      "Number of missing values in 'solutions': 0\n"
     ]
    }
   ],
   "source": [
    "# 'solutions' 열에 결측치가 있는지 확인합니다\n",
    "missing_values = df['solutions'].isnull().sum()\n",
    "print(f\"Number of missing values in 'solutions': {missing_values}\")"
   ]
  },
  {
   "cell_type": "code",
   "execution_count": 2,
   "metadata": {},
   "outputs": [
    {
     "name": "stdout",
     "output_type": "stream",
     "text": [
      "Index(['name', 'difficulty', 'source', 'language', 'content', 'content.1'], dtype='object')\n"
     ]
    }
   ],
   "source": [
    "import pandas as pd\n",
    "\n",
    "# 데이터 파일 경로를 지정하세요\n",
    "data_path = '/home/jungin/workspace/JointMatch/multiple/data/code_contests/train.csv'  # replace with your actual file path\n",
    "# data_path = '/home/jungin/workspace/JointMatch/multiple/data/code_contests/train-00000-of-00039-e991a271dbfa9925.csv'\n",
    "# 데이터를 불러옵니다\n",
    "df = pd.read_csv(data_path)\n",
    "\n",
    "# 'content' 열을 확인합니다\n",
    "# print(df['content'])\n",
    "print(df.columns)"
   ]
  },
  {
   "cell_type": "code",
   "execution_count": null,
   "metadata": {},
   "outputs": [],
   "source": []
  },
  {
   "cell_type": "code",
   "execution_count": null,
   "metadata": {},
   "outputs": [],
   "source": []
  },
  {
   "cell_type": "code",
   "execution_count": 1,
   "metadata": {},
   "outputs": [
    {
     "data": {
      "text/html": [
       "<div>\n",
       "<style scoped>\n",
       "    .dataframe tbody tr th:only-of-type {\n",
       "        vertical-align: middle;\n",
       "    }\n",
       "\n",
       "    .dataframe tbody tr th {\n",
       "        vertical-align: top;\n",
       "    }\n",
       "\n",
       "    .dataframe thead th {\n",
       "        text-align: right;\n",
       "    }\n",
       "</style>\n",
       "<table border=\"1\" class=\"dataframe\">\n",
       "  <thead>\n",
       "    <tr style=\"text-align: right;\">\n",
       "      <th></th>\n",
       "      <th>name</th>\n",
       "      <th>difficulty</th>\n",
       "      <th>source</th>\n",
       "      <th>language</th>\n",
       "      <th>solutions</th>\n",
       "      <th>content</th>\n",
       "      <th>content.1</th>\n",
       "    </tr>\n",
       "  </thead>\n",
       "  <tbody>\n",
       "    <tr>\n",
       "      <th>17</th>\n",
       "      <td>152_E. Garden</td>\n",
       "      <td>11</td>\n",
       "      <td>2</td>\n",
       "      <td>4</td>\n",
       "      <td>import static java.lang.Math.*;\\nimport static...</td>\n",
       "      <td>NaN</td>\n",
       "      <td>NaN</td>\n",
       "    </tr>\n",
       "    <tr>\n",
       "      <th>18</th>\n",
       "      <td>152_E. Garden</td>\n",
       "      <td>11</td>\n",
       "      <td>2</td>\n",
       "      <td>4</td>\n",
       "      <td>import java.io.BufferedReader;\\nimport java.io...</td>\n",
       "      <td>NaN</td>\n",
       "      <td>NaN</td>\n",
       "    </tr>\n",
       "    <tr>\n",
       "      <th>43</th>\n",
       "      <td>152_E. Garden</td>\n",
       "      <td>11</td>\n",
       "      <td>2</td>\n",
       "      <td>4</td>\n",
       "      <td>import java.io.BufferedReader;\\nimport java.io...</td>\n",
       "      <td>NaN</td>\n",
       "      <td>NaN</td>\n",
       "    </tr>\n",
       "    <tr>\n",
       "      <th>76</th>\n",
       "      <td>152_E. Garden</td>\n",
       "      <td>11</td>\n",
       "      <td>2</td>\n",
       "      <td>4</td>\n",
       "      <td>//package round108;\\nimport java.io.ByteArrayI...</td>\n",
       "      <td>NaN</td>\n",
       "      <td>NaN</td>\n",
       "    </tr>\n",
       "    <tr>\n",
       "      <th>83</th>\n",
       "      <td>152_E. Garden</td>\n",
       "      <td>11</td>\n",
       "      <td>2</td>\n",
       "      <td>4</td>\n",
       "      <td>// practice with rainboy\\nimport java.io.*;\\ni...</td>\n",
       "      <td>NaN</td>\n",
       "      <td>NaN</td>\n",
       "    </tr>\n",
       "    <tr>\n",
       "      <th>...</th>\n",
       "      <td>...</td>\n",
       "      <td>...</td>\n",
       "      <td>...</td>\n",
       "      <td>...</td>\n",
       "      <td>...</td>\n",
       "      <td>...</td>\n",
       "      <td>...</td>\n",
       "    </tr>\n",
       "    <tr>\n",
       "      <th>94069</th>\n",
       "      <td>1506_F. Triangular Paths</td>\n",
       "      <td>12</td>\n",
       "      <td>2</td>\n",
       "      <td>4</td>\n",
       "      <td>NaN</td>\n",
       "      <td>NaN</td>\n",
       "      <td>import java.util.*; \\nimport java.util.Arrays;...</td>\n",
       "    </tr>\n",
       "    <tr>\n",
       "      <th>94070</th>\n",
       "      <td>1506_F. Triangular Paths</td>\n",
       "      <td>12</td>\n",
       "      <td>2</td>\n",
       "      <td>4</td>\n",
       "      <td>NaN</td>\n",
       "      <td>NaN</td>\n",
       "      <td>import java.util.*;\\npublic class TriangularPa...</td>\n",
       "    </tr>\n",
       "    <tr>\n",
       "      <th>94071</th>\n",
       "      <td>1506_F. Triangular Paths</td>\n",
       "      <td>12</td>\n",
       "      <td>2</td>\n",
       "      <td>4</td>\n",
       "      <td>NaN</td>\n",
       "      <td>NaN</td>\n",
       "      <td>import java.io.BufferedReader;\\nimport java.io...</td>\n",
       "    </tr>\n",
       "    <tr>\n",
       "      <th>94072</th>\n",
       "      <td>1506_F. Triangular Paths</td>\n",
       "      <td>12</td>\n",
       "      <td>2</td>\n",
       "      <td>4</td>\n",
       "      <td>NaN</td>\n",
       "      <td>NaN</td>\n",
       "      <td>\\nimport java.io.*;\\nimport java.util.*;\\n\\npu...</td>\n",
       "    </tr>\n",
       "    <tr>\n",
       "      <th>94073</th>\n",
       "      <td>1506_F. Triangular Paths</td>\n",
       "      <td>12</td>\n",
       "      <td>2</td>\n",
       "      <td>4</td>\n",
       "      <td>NaN</td>\n",
       "      <td>NaN</td>\n",
       "      <td>import java.util.*;\\nimport java.io.*;\\n\\npubl...</td>\n",
       "    </tr>\n",
       "  </tbody>\n",
       "</table>\n",
       "<p>141111 rows × 7 columns</p>\n",
       "</div>"
      ],
      "text/plain": [
       "                           name  difficulty  source  language  \\\n",
       "17                152_E. Garden          11       2         4   \n",
       "18                152_E. Garden          11       2         4   \n",
       "43                152_E. Garden          11       2         4   \n",
       "76                152_E. Garden          11       2         4   \n",
       "83                152_E. Garden          11       2         4   \n",
       "...                         ...         ...     ...       ...   \n",
       "94069  1506_F. Triangular Paths          12       2         4   \n",
       "94070  1506_F. Triangular Paths          12       2         4   \n",
       "94071  1506_F. Triangular Paths          12       2         4   \n",
       "94072  1506_F. Triangular Paths          12       2         4   \n",
       "94073  1506_F. Triangular Paths          12       2         4   \n",
       "\n",
       "                                               solutions content  \\\n",
       "17     import static java.lang.Math.*;\\nimport static...     NaN   \n",
       "18     import java.io.BufferedReader;\\nimport java.io...     NaN   \n",
       "43     import java.io.BufferedReader;\\nimport java.io...     NaN   \n",
       "76     //package round108;\\nimport java.io.ByteArrayI...     NaN   \n",
       "83     // practice with rainboy\\nimport java.io.*;\\ni...     NaN   \n",
       "...                                                  ...     ...   \n",
       "94069                                                NaN     NaN   \n",
       "94070                                                NaN     NaN   \n",
       "94071                                                NaN     NaN   \n",
       "94072                                                NaN     NaN   \n",
       "94073                                                NaN     NaN   \n",
       "\n",
       "                                               content.1  \n",
       "17                                                   NaN  \n",
       "18                                                   NaN  \n",
       "43                                                   NaN  \n",
       "76                                                   NaN  \n",
       "83                                                   NaN  \n",
       "...                                                  ...  \n",
       "94069  import java.util.*; \\nimport java.util.Arrays;...  \n",
       "94070  import java.util.*;\\npublic class TriangularPa...  \n",
       "94071  import java.io.BufferedReader;\\nimport java.io...  \n",
       "94072  \\nimport java.io.*;\\nimport java.util.*;\\n\\npu...  \n",
       "94073  import java.util.*;\\nimport java.io.*;\\n\\npubl...  \n",
       "\n",
       "[141111 rows x 7 columns]"
      ]
     },
     "execution_count": 1,
     "metadata": {},
     "output_type": "execute_result"
    }
   ],
   "source": [
    "import os\n",
    "import pandas as pd\n",
    "path = \"/home/jungin/workspace/JointMatch/multiple/data/code_contests\"\n",
    "\n",
    "csv_files = [f for f in os.listdir(path) if f.endswith('.csv')]\n",
    "\n",
    "# 각 CSV 파일을 로드하고, language가 4인 행만 필터링\n",
    "dataframes = []\n",
    "for csv_file in csv_files:\n",
    "    df = pd.read_csv(os.path.join(path, csv_file))\n",
    "    df = df[df['language'] == 4]\n",
    "    dataframes.append(df)\n",
    "\n",
    "# 모든 DataFrame을 하나로 합치기\n",
    "combined_df = pd.concat(dataframes)\n",
    "# combined_df = combined_df.rename(columns={'solutions': 'content'})\n",
    "\n",
    "combined_df"
   ]
  },
  {
   "cell_type": "code",
   "execution_count": 6,
   "metadata": {},
   "outputs": [
    {
     "name": "stdout",
     "output_type": "stream",
     "text": [
      "Number of missing values in 'solutions': 94074\n"
     ]
    }
   ],
   "source": [
    "# 'solutions' 열에 결측치가 있는지 확인합니다\n",
    "missing_values = combined_df['content'].isnull().sum()\n",
    "print(f\"Number of missing values in 'solutions': {missing_values}\")"
   ]
  },
  {
   "cell_type": "code",
   "execution_count": null,
   "metadata": {},
   "outputs": [],
   "source": []
  }
 ],
 "metadata": {
  "kernelspec": {
   "display_name": "jointmatch",
   "language": "python",
   "name": "python3"
  },
  "language_info": {
   "codemirror_mode": {
    "name": "ipython",
    "version": 3
   },
   "file_extension": ".py",
   "mimetype": "text/x-python",
   "name": "python",
   "nbconvert_exporter": "python",
   "pygments_lexer": "ipython3",
   "version": "3.9.18"
  }
 },
 "nbformat": 4,
 "nbformat_minor": 2
}
