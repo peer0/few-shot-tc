{
 "cells": [
  {
   "cell_type": "code",
   "execution_count": 35,
   "metadata": {},
   "outputs": [
    {
     "name": "stdout",
     "output_type": "stream",
     "text": [
      "상위 5개 행:\n",
      "                                             content problem        from  \\\n",
      "0  n,r=list(map(int,input().split()))\\nx=list(map...  0908_C  CODEFORCES   \n",
      "1  from collections import namedtuple\\nvertex = n...  1082_D  CODEFORCES   \n",
      "2  # sys.setrecursionlimit(300000)\\nimport sys\\nd...  0987_A  CODEFORCES   \n",
      "3  #! /usr/bin/env python\\n# -*- coding: utf-8 -*...  1080_D  CODEFORCES   \n",
      "4  from sys import stdin, stdout\\nfrom math impor...  1068_A  CODEFORCES   \n",
      "\n",
      "    idx            problem_title  \\\n",
      "0  3043     New Year and Curling   \n",
      "1  3571   Maximum Diameter Graph   \n",
      "2   342        Infinity Gauntlet   \n",
      "3  1187  Olya and magical square   \n",
      "4  1162                 Birthday   \n",
      "\n",
      "                                 problem_description  \\\n",
      "0  Carol is currently curling.\\nShe has n disks e...   \n",
      "1  Graph constructive problems are back! This tim...   \n",
      "2  You took a peek on Thanos wearing Infinity Gau...   \n",
      "3  Recently, Olya received a magical square with ...   \n",
      "4  Ivan is collecting coins. There are only $$$N$...   \n",
      "\n",
      "                          input_output_specification  \\\n",
      "0  input\\nThe final positions of the disks will l...   \n",
      "1  input\\n$$$d_3 = 1 \\le a_3 = 1$$$\\noutput\\n$$$d...   \n",
      "2  input\\nIn the first sample Thanos already has ...   \n",
      "3  input\\nIn the third test, it takes $$$5$$$ ope...   \n",
      "4  input\\nIn the first test, one coin from each f...   \n",
      "\n",
      "                                             tags  label  \\\n",
      "0      bruteforce, geometry, implementation, math      5   \n",
      "1  constructivealgorithms, graphs, implementation      5   \n",
      "2                                  implementation      1   \n",
      "3    constructivealgorithms, implementation, math      2   \n",
      "4                                            math      2   \n",
      "\n",
      "                                         synonym_aug  \\\n",
      "0  n, gas constant = list (map (int, stimulation ...   \n",
      "1  from collections import namedtuple vertex = na...   \n",
      "2  # sys. setrecursionlimit (300000) import sys d...   \n",
      "3  #! / usr / bin / env python # - * - coding: ut...   \n",
      "4  from sys consequence stdin, stdout from math i...   \n",
      "\n",
      "                                    back_translation  \n",
      "0  n, r = List (map (int, input ().split ())) x =...  \n",
      "1  import from collections namedtuplevertex = nam...  \n",
      "2  # sys.setrecursionlimit (str, l) import sysdef...  \n",
      "3  #! / usr / bin / env python # - * - encoding: ...  \n",
      "4  from sys import stdin, stdoutfrom math import ...  \n"
     ]
    }
   ],
   "source": [
    "import pandas as pd\n",
    "import matplotlib.pyplot as plt\n",
    "\n",
    "# CSV 파일 경로\n",
    "csv_file_path = './python_extended_data/train.csv'\n",
    "# csv_file_path = './python_extended_data.csv'\n",
    "\n",
    "# CSV 파일 읽기\n",
    "df = pd.read_csv(csv_file_path)\n",
    "\n",
    "# 데이터프레임의 처음 몇 행 확인\n",
    "print(\"상위 5개 행:\")\n",
    "print(df.head())"
   ]
  },
  {
   "cell_type": "markdown",
   "metadata": {},
   "source": []
  },
  {
   "cell_type": "code",
   "execution_count": 36,
   "metadata": {},
   "outputs": [
    {
     "name": "stdout",
     "output_type": "stream",
     "text": [
      "\n",
      "유니크한 값의 개수:\n",
      "{1: 616, 2: 522, 3: 670, 4: 626, 5: 516, 6: 463, 7: 402}\n"
     ]
    }
   ],
   "source": [
    "print(\"\\n유니크한 값의 개수:\")\n",
    "print(df['label'].value_counts().sort_index().to_dict())"
   ]
  },
  {
   "cell_type": "code",
   "execution_count": 37,
   "metadata": {},
   "outputs": [
    {
     "name": "stdout",
     "output_type": "stream",
     "text": [
      "4889\n"
     ]
    }
   ],
   "source": [
    "def count_lines(filename):\n",
    "    with open(filename, 'r') as f:\n",
    "        lines = f.readlines()\n",
    "    return len(lines)\n",
    "\n",
    "filename = 'java_extended_data.jsonl'\n",
    "print(count_lines(filename))"
   ]
  },
  {
   "cell_type": "code",
   "execution_count": 20,
   "metadata": {},
   "outputs": [
    {
     "name": "stdout",
     "output_type": "stream",
     "text": [
      "4769\n"
     ]
    }
   ],
   "source": [
    "def count_lines(filename):\n",
    "    with open(filename, 'r') as f:\n",
    "        lines = f.readlines()\n",
    "    return len(lines)\n",
    "\n",
    "filename = 'python_extended_data.jsonl'\n",
    "print(count_lines(filename))"
   ]
  },
  {
   "cell_type": "code",
   "execution_count": 21,
   "metadata": {},
   "outputs": [
    {
     "name": "stdout",
     "output_type": "stream",
     "text": [
      "\n",
      "데이터프레임 정보:\n",
      "<class 'pandas.core.frame.DataFrame'>\n",
      "RangeIndex: 4889 entries, 0 to 4888\n",
      "Data columns (total 9 columns):\n",
      " #   Column                      Non-Null Count  Dtype \n",
      "---  ------                      --------------  ----- \n",
      " 0   src                         4889 non-null   object\n",
      " 1   complexity                  4889 non-null   object\n",
      " 2   problem                     4889 non-null   object\n",
      " 3   from                        4889 non-null   object\n",
      " 4   idx                         4889 non-null   int64 \n",
      " 5   problem_title               4889 non-null   object\n",
      " 6   problem_description         4889 non-null   object\n",
      " 7   input_output_specification  4889 non-null   object\n",
      " 8   tags                        4889 non-null   object\n",
      "dtypes: int64(1), object(8)\n",
      "memory usage: 343.9+ KB\n",
      "None\n"
     ]
    }
   ],
   "source": [
    "# 데이터프레임의 기본 정보 출력\n",
    "print(\"\\n데이터프레임 정보:\")\n",
    "print(df.info())"
   ]
  },
  {
   "cell_type": "code",
   "execution_count": 22,
   "metadata": {},
   "outputs": [
    {
     "name": "stdout",
     "output_type": "stream",
     "text": [
      "\n",
      "기술 통계량:\n",
      "               idx\n",
      "count  4889.000000\n",
      "mean   2444.000000\n",
      "std    1411.477063\n",
      "min       0.000000\n",
      "25%    1222.000000\n",
      "50%    2444.000000\n",
      "75%    3666.000000\n",
      "max    4888.000000\n"
     ]
    }
   ],
   "source": [
    "# 데이터프레임의 기술 통계량 출력\n",
    "print(\"\\n기술 통계량:\")\n",
    "print(df.describe())"
   ]
  },
  {
   "cell_type": "code",
   "execution_count": 23,
   "metadata": {},
   "outputs": [
    {
     "name": "stdout",
     "output_type": "stream",
     "text": [
      "\n",
      "결측치 확인:\n",
      "src                           0\n",
      "complexity                    0\n",
      "problem                       0\n",
      "from                          0\n",
      "idx                           0\n",
      "problem_title                 0\n",
      "problem_description           0\n",
      "input_output_specification    0\n",
      "tags                          0\n",
      "dtype: int64\n"
     ]
    }
   ],
   "source": [
    "# 각 열의 결측치 확인\n",
    "print(\"\\n결측치 확인:\")\n",
    "print(df.isnull().sum())"
   ]
  },
  {
   "cell_type": "code",
   "execution_count": 24,
   "metadata": {},
   "outputs": [
    {
     "ename": "KeyError",
     "evalue": "'label'",
     "output_type": "error",
     "traceback": [
      "\u001b[0;31m---------------------------------------------------------------------------\u001b[0m",
      "\u001b[0;31mKeyError\u001b[0m                                  Traceback (most recent call last)",
      "File \u001b[0;32m~/anaconda3/envs/jointmatch/lib/python3.8/site-packages/pandas/core/indexes/base.py:3361\u001b[0m, in \u001b[0;36mIndex.get_loc\u001b[0;34m(self, key, method, tolerance)\u001b[0m\n\u001b[1;32m   3360\u001b[0m \u001b[38;5;28;01mtry\u001b[39;00m:\n\u001b[0;32m-> 3361\u001b[0m     \u001b[38;5;28;01mreturn\u001b[39;00m \u001b[38;5;28;43mself\u001b[39;49m\u001b[38;5;241;43m.\u001b[39;49m\u001b[43m_engine\u001b[49m\u001b[38;5;241;43m.\u001b[39;49m\u001b[43mget_loc\u001b[49m\u001b[43m(\u001b[49m\u001b[43mcasted_key\u001b[49m\u001b[43m)\u001b[49m\n\u001b[1;32m   3362\u001b[0m \u001b[38;5;28;01mexcept\u001b[39;00m \u001b[38;5;167;01mKeyError\u001b[39;00m \u001b[38;5;28;01mas\u001b[39;00m err:\n",
      "File \u001b[0;32m~/anaconda3/envs/jointmatch/lib/python3.8/site-packages/pandas/_libs/index.pyx:76\u001b[0m, in \u001b[0;36mpandas._libs.index.IndexEngine.get_loc\u001b[0;34m()\u001b[0m\n",
      "File \u001b[0;32m~/anaconda3/envs/jointmatch/lib/python3.8/site-packages/pandas/_libs/index.pyx:108\u001b[0m, in \u001b[0;36mpandas._libs.index.IndexEngine.get_loc\u001b[0;34m()\u001b[0m\n",
      "File \u001b[0;32mpandas/_libs/hashtable_class_helper.pxi:5198\u001b[0m, in \u001b[0;36mpandas._libs.hashtable.PyObjectHashTable.get_item\u001b[0;34m()\u001b[0m\n",
      "File \u001b[0;32mpandas/_libs/hashtable_class_helper.pxi:5206\u001b[0m, in \u001b[0;36mpandas._libs.hashtable.PyObjectHashTable.get_item\u001b[0;34m()\u001b[0m\n",
      "\u001b[0;31mKeyError\u001b[0m: 'label'",
      "\nThe above exception was the direct cause of the following exception:\n",
      "\u001b[0;31mKeyError\u001b[0m                                  Traceback (most recent call last)",
      "Input \u001b[0;32mIn [24]\u001b[0m, in \u001b[0;36m<cell line: 1>\u001b[0;34m()\u001b[0m\n\u001b[0;32m----> 1\u001b[0m \u001b[43mdf\u001b[49m\u001b[43m[\u001b[49m\u001b[38;5;124;43m'\u001b[39;49m\u001b[38;5;124;43mlabel\u001b[39;49m\u001b[38;5;124;43m'\u001b[39;49m\u001b[43m]\u001b[49m\u001b[38;5;241m.\u001b[39munique()\n",
      "File \u001b[0;32m~/anaconda3/envs/jointmatch/lib/python3.8/site-packages/pandas/core/frame.py:3458\u001b[0m, in \u001b[0;36mDataFrame.__getitem__\u001b[0;34m(self, key)\u001b[0m\n\u001b[1;32m   3456\u001b[0m \u001b[38;5;28;01mif\u001b[39;00m \u001b[38;5;28mself\u001b[39m\u001b[38;5;241m.\u001b[39mcolumns\u001b[38;5;241m.\u001b[39mnlevels \u001b[38;5;241m>\u001b[39m \u001b[38;5;241m1\u001b[39m:\n\u001b[1;32m   3457\u001b[0m     \u001b[38;5;28;01mreturn\u001b[39;00m \u001b[38;5;28mself\u001b[39m\u001b[38;5;241m.\u001b[39m_getitem_multilevel(key)\n\u001b[0;32m-> 3458\u001b[0m indexer \u001b[38;5;241m=\u001b[39m \u001b[38;5;28;43mself\u001b[39;49m\u001b[38;5;241;43m.\u001b[39;49m\u001b[43mcolumns\u001b[49m\u001b[38;5;241;43m.\u001b[39;49m\u001b[43mget_loc\u001b[49m\u001b[43m(\u001b[49m\u001b[43mkey\u001b[49m\u001b[43m)\u001b[49m\n\u001b[1;32m   3459\u001b[0m \u001b[38;5;28;01mif\u001b[39;00m is_integer(indexer):\n\u001b[1;32m   3460\u001b[0m     indexer \u001b[38;5;241m=\u001b[39m [indexer]\n",
      "File \u001b[0;32m~/anaconda3/envs/jointmatch/lib/python3.8/site-packages/pandas/core/indexes/base.py:3363\u001b[0m, in \u001b[0;36mIndex.get_loc\u001b[0;34m(self, key, method, tolerance)\u001b[0m\n\u001b[1;32m   3361\u001b[0m         \u001b[38;5;28;01mreturn\u001b[39;00m \u001b[38;5;28mself\u001b[39m\u001b[38;5;241m.\u001b[39m_engine\u001b[38;5;241m.\u001b[39mget_loc(casted_key)\n\u001b[1;32m   3362\u001b[0m     \u001b[38;5;28;01mexcept\u001b[39;00m \u001b[38;5;167;01mKeyError\u001b[39;00m \u001b[38;5;28;01mas\u001b[39;00m err:\n\u001b[0;32m-> 3363\u001b[0m         \u001b[38;5;28;01mraise\u001b[39;00m \u001b[38;5;167;01mKeyError\u001b[39;00m(key) \u001b[38;5;28;01mfrom\u001b[39;00m \u001b[38;5;21;01merr\u001b[39;00m\n\u001b[1;32m   3365\u001b[0m \u001b[38;5;28;01mif\u001b[39;00m is_scalar(key) \u001b[38;5;129;01mand\u001b[39;00m isna(key) \u001b[38;5;129;01mand\u001b[39;00m \u001b[38;5;129;01mnot\u001b[39;00m \u001b[38;5;28mself\u001b[39m\u001b[38;5;241m.\u001b[39mhasnans:\n\u001b[1;32m   3366\u001b[0m     \u001b[38;5;28;01mraise\u001b[39;00m \u001b[38;5;167;01mKeyError\u001b[39;00m(key)\n",
      "\u001b[0;31mKeyError\u001b[0m: 'label'"
     ]
    }
   ],
   "source": [
    "df['label'].unique()"
   ]
  },
  {
   "cell_type": "code",
   "execution_count": 27,
   "metadata": {},
   "outputs": [
    {
     "name": "stdout",
     "output_type": "stream",
     "text": [
      "\n",
      "유니크한 값의 개수:\n"
     ]
    },
    {
     "ename": "KeyError",
     "evalue": "'label'",
     "output_type": "error",
     "traceback": [
      "\u001b[0;31m---------------------------------------------------------------------------\u001b[0m",
      "\u001b[0;31mKeyError\u001b[0m                                  Traceback (most recent call last)",
      "File \u001b[0;32m~/anaconda3/envs/jointmatch/lib/python3.8/site-packages/pandas/core/indexes/base.py:3361\u001b[0m, in \u001b[0;36mIndex.get_loc\u001b[0;34m(self, key, method, tolerance)\u001b[0m\n\u001b[1;32m   3360\u001b[0m \u001b[38;5;28;01mtry\u001b[39;00m:\n\u001b[0;32m-> 3361\u001b[0m     \u001b[38;5;28;01mreturn\u001b[39;00m \u001b[38;5;28;43mself\u001b[39;49m\u001b[38;5;241;43m.\u001b[39;49m\u001b[43m_engine\u001b[49m\u001b[38;5;241;43m.\u001b[39;49m\u001b[43mget_loc\u001b[49m\u001b[43m(\u001b[49m\u001b[43mcasted_key\u001b[49m\u001b[43m)\u001b[49m\n\u001b[1;32m   3362\u001b[0m \u001b[38;5;28;01mexcept\u001b[39;00m \u001b[38;5;167;01mKeyError\u001b[39;00m \u001b[38;5;28;01mas\u001b[39;00m err:\n",
      "File \u001b[0;32m~/anaconda3/envs/jointmatch/lib/python3.8/site-packages/pandas/_libs/index.pyx:76\u001b[0m, in \u001b[0;36mpandas._libs.index.IndexEngine.get_loc\u001b[0;34m()\u001b[0m\n",
      "File \u001b[0;32m~/anaconda3/envs/jointmatch/lib/python3.8/site-packages/pandas/_libs/index.pyx:108\u001b[0m, in \u001b[0;36mpandas._libs.index.IndexEngine.get_loc\u001b[0;34m()\u001b[0m\n",
      "File \u001b[0;32mpandas/_libs/hashtable_class_helper.pxi:5198\u001b[0m, in \u001b[0;36mpandas._libs.hashtable.PyObjectHashTable.get_item\u001b[0;34m()\u001b[0m\n",
      "File \u001b[0;32mpandas/_libs/hashtable_class_helper.pxi:5206\u001b[0m, in \u001b[0;36mpandas._libs.hashtable.PyObjectHashTable.get_item\u001b[0;34m()\u001b[0m\n",
      "\u001b[0;31mKeyError\u001b[0m: 'label'",
      "\nThe above exception was the direct cause of the following exception:\n",
      "\u001b[0;31mKeyError\u001b[0m                                  Traceback (most recent call last)",
      "Input \u001b[0;32mIn [27]\u001b[0m, in \u001b[0;36m<cell line: 2>\u001b[0;34m()\u001b[0m\n\u001b[1;32m      1\u001b[0m \u001b[38;5;28mprint\u001b[39m(\u001b[38;5;124m\"\u001b[39m\u001b[38;5;130;01m\\n\u001b[39;00m\u001b[38;5;124m유니크한 값의 개수:\u001b[39m\u001b[38;5;124m\"\u001b[39m)\n\u001b[0;32m----> 2\u001b[0m \u001b[38;5;28mprint\u001b[39m(\u001b[43mdf\u001b[49m\u001b[43m[\u001b[49m\u001b[38;5;124;43m'\u001b[39;49m\u001b[38;5;124;43mlabel\u001b[39;49m\u001b[38;5;124;43m'\u001b[39;49m\u001b[43m]\u001b[49m\u001b[38;5;241m.\u001b[39mvalue_counts()\u001b[38;5;241m.\u001b[39msort_index()\u001b[38;5;241m.\u001b[39mto_dict())\n",
      "File \u001b[0;32m~/anaconda3/envs/jointmatch/lib/python3.8/site-packages/pandas/core/frame.py:3458\u001b[0m, in \u001b[0;36mDataFrame.__getitem__\u001b[0;34m(self, key)\u001b[0m\n\u001b[1;32m   3456\u001b[0m \u001b[38;5;28;01mif\u001b[39;00m \u001b[38;5;28mself\u001b[39m\u001b[38;5;241m.\u001b[39mcolumns\u001b[38;5;241m.\u001b[39mnlevels \u001b[38;5;241m>\u001b[39m \u001b[38;5;241m1\u001b[39m:\n\u001b[1;32m   3457\u001b[0m     \u001b[38;5;28;01mreturn\u001b[39;00m \u001b[38;5;28mself\u001b[39m\u001b[38;5;241m.\u001b[39m_getitem_multilevel(key)\n\u001b[0;32m-> 3458\u001b[0m indexer \u001b[38;5;241m=\u001b[39m \u001b[38;5;28;43mself\u001b[39;49m\u001b[38;5;241;43m.\u001b[39;49m\u001b[43mcolumns\u001b[49m\u001b[38;5;241;43m.\u001b[39;49m\u001b[43mget_loc\u001b[49m\u001b[43m(\u001b[49m\u001b[43mkey\u001b[49m\u001b[43m)\u001b[49m\n\u001b[1;32m   3459\u001b[0m \u001b[38;5;28;01mif\u001b[39;00m is_integer(indexer):\n\u001b[1;32m   3460\u001b[0m     indexer \u001b[38;5;241m=\u001b[39m [indexer]\n",
      "File \u001b[0;32m~/anaconda3/envs/jointmatch/lib/python3.8/site-packages/pandas/core/indexes/base.py:3363\u001b[0m, in \u001b[0;36mIndex.get_loc\u001b[0;34m(self, key, method, tolerance)\u001b[0m\n\u001b[1;32m   3361\u001b[0m         \u001b[38;5;28;01mreturn\u001b[39;00m \u001b[38;5;28mself\u001b[39m\u001b[38;5;241m.\u001b[39m_engine\u001b[38;5;241m.\u001b[39mget_loc(casted_key)\n\u001b[1;32m   3362\u001b[0m     \u001b[38;5;28;01mexcept\u001b[39;00m \u001b[38;5;167;01mKeyError\u001b[39;00m \u001b[38;5;28;01mas\u001b[39;00m err:\n\u001b[0;32m-> 3363\u001b[0m         \u001b[38;5;28;01mraise\u001b[39;00m \u001b[38;5;167;01mKeyError\u001b[39;00m(key) \u001b[38;5;28;01mfrom\u001b[39;00m \u001b[38;5;21;01merr\u001b[39;00m\n\u001b[1;32m   3365\u001b[0m \u001b[38;5;28;01mif\u001b[39;00m is_scalar(key) \u001b[38;5;129;01mand\u001b[39;00m isna(key) \u001b[38;5;129;01mand\u001b[39;00m \u001b[38;5;129;01mnot\u001b[39;00m \u001b[38;5;28mself\u001b[39m\u001b[38;5;241m.\u001b[39mhasnans:\n\u001b[1;32m   3366\u001b[0m     \u001b[38;5;28;01mraise\u001b[39;00m \u001b[38;5;167;01mKeyError\u001b[39;00m(key)\n",
      "\u001b[0;31mKeyError\u001b[0m: 'label'"
     ]
    }
   ],
   "source": [
    "print(\"\\n유니크한 값의 개수:\")\n",
    "print(df['label'].value_counts().sort_index().to_dict())"
   ]
  },
  {
   "cell_type": "code",
   "execution_count": null,
   "metadata": {},
   "outputs": [
    {
     "name": "stdout",
     "output_type": "stream",
     "text": [
      "\n",
      "유니크한 값의 개수:\n",
      "content                       4701\n",
      "label                            7\n",
      "problem                        277\n",
      "from                             1\n",
      "idx                           4769\n",
      "problem_title                  271\n",
      "problem_description            271\n",
      "input_output_specification     270\n",
      "tags                           152\n",
      "synonym_aug                   4769\n",
      "back_translation              4534\n",
      "dtype: int64\n"
     ]
    }
   ],
   "source": [
    "# 각 열의 유니크한 값의 개수 출력\n",
    "print(\"\\n유니크한 값의 개수:\")\n",
    "print(df.nunique())"
   ]
  },
  {
   "cell_type": "code",
   "execution_count": 2,
   "metadata": {},
   "outputs": [],
   "source": [
    "#chatgpt augmentation 추가\n",
    "import pandas as pd\n",
    "\n",
    "# 파일 경로\n",
    "csv_file_path = \"/home/jungin/workspace/JointMatch/multiple/data/code_complex/problem_based_split/java_extended_data/train.csv\"\n",
    "jsonl_file_path1 = \"/home/jungin/workspace/JointMatch/multiple/data/code_complex/cc_java_translation.jsonl\"\n",
    "jsonl_file_path2 = \"/home/jungin/workspace/JointMatch/multiple/data/code_complex/cc_java_backtranslation.jsonl\"\n",
    "\n",
    "# 파일 읽기\n",
    "df_csv = pd.read_csv(csv_file_path)\n",
    "df_jsonl1 = pd.read_json(jsonl_file_path1, lines=True)\n",
    "df_jsonl2 = pd.read_json(jsonl_file_path2, lines=True)\n",
    "\n",
    "# 'idx'와 'index' 컬럼을 기준으로 데이터 합치기\n",
    "df_jsonl1.rename(columns={'index': 'idx'}, inplace=True)\n",
    "df_jsonl2.rename(columns={'index': 'idx'}, inplace=True)\n",
    "\n",
    "df_merged = df_csv.merge(df_jsonl1[['idx', 'translation']], on='idx', how='inner')\n",
    "df_merged = df_merged.merge(df_jsonl2[['idx', 'back-translation']], on='idx', how='inner')\n",
    "\n",
    "# 결과를 csv 파일로 저장\n",
    "# df_merged\n",
    "# df_merged = df_merged.drop('synonym_aug', axis=1)\n",
    "df_merged.to_csv('/home/jungin/workspace/JointMatch/multiple/data/code_complex/problem_based_split/java_extended_data/train_chatgpt.csv', index=False)"
   ]
  },
  {
   "cell_type": "code",
   "execution_count": 1,
   "metadata": {},
   "outputs": [],
   "source": [
    "#chatgpt augmentation 추가\n",
    "import pandas as pd\n",
    "\n",
    "# 파일 경로\n",
    "csv_file_path = \"/home/jungin/workspace/JointMatch/multiple/data/code_complex/random_split/java_extended_data/train.csv\"\n",
    "jsonl_file_path1 = \"/home/jungin/workspace/JointMatch/multiple/data/code_complex/cc_java_translation.jsonl\"\n",
    "jsonl_file_path2 = \"/home/jungin/workspace/JointMatch/multiple/data/code_complex/cc_java_backtranslation.jsonl\"\n",
    "\n",
    "# 파일 읽기\n",
    "df_csv = pd.read_csv(csv_file_path)\n",
    "df_jsonl1 = pd.read_json(jsonl_file_path1, lines=True)\n",
    "df_jsonl2 = pd.read_json(jsonl_file_path2, lines=True)\n",
    "\n",
    "# 'idx'와 'index' 컬럼을 기준으로 데이터 합치기\n",
    "df_jsonl1.rename(columns={'index': 'idx'}, inplace=True)\n",
    "df_jsonl2.rename(columns={'index': 'idx'}, inplace=True)\n",
    "\n",
    "df_merged = df_csv.merge(df_jsonl1[['idx', 'translation']], on='idx', how='inner')\n",
    "df_merged = df_merged.merge(df_jsonl2[['idx', 'back-translation']], on='idx', how='inner')\n",
    "\n",
    "# 결과를 csv 파일로 저장\n",
    "# df_merged\n",
    "# df_merged = df_merged.drop('synonym_aug', axis=1)\n",
    "df_merged.to_csv('/home/jungin/workspace/JointMatch/multiple/data/code_complex/random_split/java_extended_data/train_chatgpt.csv', index=False)"
   ]
  },
  {
   "cell_type": "code",
   "execution_count": null,
   "metadata": {},
   "outputs": [],
   "source": []
  }
 ],
 "metadata": {
  "kernelspec": {
   "display_name": "jointmatch",
   "language": "python",
   "name": "python3"
  },
  "language_info": {
   "codemirror_mode": {
    "name": "ipython",
    "version": 3
   },
   "file_extension": ".py",
   "mimetype": "text/x-python",
   "name": "python",
   "nbconvert_exporter": "python",
   "pygments_lexer": "ipython3",
   "version": "3.8.19"
  }
 },
 "nbformat": 4,
 "nbformat_minor": 2
}
