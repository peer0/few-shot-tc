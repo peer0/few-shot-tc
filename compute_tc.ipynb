{
 "cells": [
  {
   "cell_type": "code",
   "execution_count": 2,
   "metadata": {},
   "outputs": [],
   "source": [
    "code_sample =\"\"\"\n",
    "Your source code\n",
    "\"\"\""
   ]
  },
  {
   "cell_type": "code",
   "execution_count": null,
   "metadata": {},
   "outputs": [],
   "source": [
    "import re\n",
    "\n",
    "def extract_functions(code):\n",
    "    functions = []\n",
    "    lines = code.split('\\n')\n",
    "    current_function = ''\n",
    "    for line in lines:\n",
    "        if line.strip().startswith('def '):\n",
    "            if current_function:\n",
    "                functions.append(current_function.strip())\n",
    "            current_function = line\n",
    "        else:\n",
    "            current_function += '\\n' + line\n",
    "    if current_function:\n",
    "        functions.append(current_function.strip())\n",
    "    return functions\n",
    "\n",
    "def extract_loop_counts_and_function_calls(code):\n",
    "    loop_counts = []\n",
    "    function_calls = []\n",
    "    lines = code.split('\\n')\n",
    "    for line in lines:\n",
    "        if 'for' in line and 'range' in line:\n",
    "            match = re.search(r'range\\s*\\(\\s*(.*?)\\s*\\)', line)\n",
    "            if match:\n",
    "                loop_counts.append(match.group(1).split(','))\n",
    "        func_call_match = re.search(r'(\\w+)\\s*\\(', line)\n",
    "        if func_call_match and not line.strip().startswith('def '):\n",
    "            function_calls.append(func_call_match.group(1))\n",
    "    return loop_counts, function_calls\n",
    "\n",
    "def calculate_time_complexity_with_function_calls(code):\n",
    "    functions = extract_functions(code)\n",
    "    function_call_counts = {func: 0 for func in functions}\n",
    "    function_loop_counts = {}\n",
    "    function_call_names = {}\n",
    "\n",
    "    for func_code in functions:\n",
    "        match = re.search(r'def (\\w+)\\(', func_code)\n",
    "        if not match:\n",
    "            continue  # if there is no matched function\n",
    "        function_name = match.group(1)\n",
    "        loop_counts, function_calls = extract_loop_counts_and_function_calls(func_code)\n",
    "        function_loop_counts[function_name] = loop_counts\n",
    "        function_call_names[function_name] = function_calls\n",
    "\n",
    "    # update the call count to consider other function called from the main()\n",
    "    for func_name, calls in function_call_names.items():\n",
    "        for call in calls:\n",
    "            if call in function_call_counts:\n",
    "                function_call_counts[func_name] += 1  # update call count\n",
    "\n",
    "    # compute the time complexity of each functions\n",
    "    for func_name, loop_counts in function_loop_counts.items():\n",
    "        time_complexity = \"1\"\n",
    "        for count in loop_counts:\n",
    "            time_complexity += \" * \" + \" * \".join(count)\n",
    "        for call_name in function_call_names.get(func_name, []):\n",
    "            if call_name in function_call_counts:\n",
    "                time_complexity += f\" * {function_call_counts[call_name]}\"\n",
    "        print(f\"함수 '{func_name}'의 시간 복잡도: {time_complexity}\")\n",
    "\n",
    "\n",
    "calculate_time_complexity_with_function_calls(code_sample)"
   ]
  }
 ],
 "metadata": {
  "kernelspec": {
   "display_name": "symbol",
   "language": "python",
   "name": "python3"
  },
  "language_info": {
   "codemirror_mode": {
    "name": "ipython",
    "version": 3
   },
   "file_extension": ".py",
   "mimetype": "text/x-python",
   "name": "python",
   "nbconvert_exporter": "python",
   "pygments_lexer": "ipython3",
   "version": "3.8.18"
  }
 },
 "nbformat": 4,
 "nbformat_minor": 2
}
